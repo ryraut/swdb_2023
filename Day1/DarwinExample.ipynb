{
 "cells": [
  {
   "cell_type": "code",
   "execution_count": 96,
   "id": "f7ec2664",
   "metadata": {},
   "outputs": [],
   "source": [
    "import pandas as pd\n",
    "import numpy as np\n",
    "from matplotlib import pyplot as plt\n",
    "import sklearn.linear_model as lm\n",
    "from sklearn.model_selection import train_test_split"
   ]
  },
  {
   "cell_type": "markdown",
   "id": "a1248453",
   "metadata": {},
   "source": [
    "This is a neuroscience course, but to understand some of the concepts today lets turn to a classic statistics problem from ecology. This example is relevent to this course insofar as we are on and island, and it never hurts to think about some island ecology!"
   ]
  },
  {
   "cell_type": "markdown",
   "id": "e9b0b0eb",
   "metadata": {},
   "source": [
    "Charles Darwin  observed that there are many species of finch unique to the Galapogos Islands. Importanlty, these finch appear very similar to those found on the mainland, but with unique specializations specific to their enviornmental niches on the islands. From this, he concluded that the island were likely colonized by birds from the mainland, and over time the bird population on the island adapted to fit the local environment. This was one of the key insigts leading to his theory of evolution."
   ]
  },
  {
   "cell_type": "markdown",
   "id": "e4833686",
   "metadata": {},
   "source": [
    "The finches of the Galapogos have remained an active area of study. From 1973 to 2013, Peter and Rosemary Grand made trips to the island of Daphne Major to collect beak size and shape information about two species of finch, G. Fortis and G. scandens. We will use the distinction between these species to illustrate catigorical regression- a concept that will be useful momentarily when we start thinging about neural encoding. If you are interested, more information on these data are avalible here: https://www.kaggle.com/datasets/crbelhekar619/darwins-finches-evolution-dataset"
   ]
  },
  {
   "cell_type": "markdown",
   "id": "66e2f624",
   "metadata": {},
   "source": [
    "![Illustration by Rosa Marin Ribas, http://graphictextile.blogspot.com/2017/08/two-finches.html?spref=pi](../resources/geospizas.jpg)"
   ]
  },
  {
   "cell_type": "markdown",
   "id": "43ef598e",
   "metadata": {},
   "source": [
    "For this example, lets start with data collected in 1975. \n",
    "\n",
    "Length and depth units are in mm"
   ]
  },
  {
   "cell_type": "code",
   "execution_count": 81,
   "id": "e86d902c",
   "metadata": {},
   "outputs": [
    {
     "data": {
      "text/html": [
       "<div>\n",
       "<style scoped>\n",
       "    .dataframe tbody tr th:only-of-type {\n",
       "        vertical-align: middle;\n",
       "    }\n",
       "\n",
       "    .dataframe tbody tr th {\n",
       "        vertical-align: top;\n",
       "    }\n",
       "\n",
       "    .dataframe thead th {\n",
       "        text-align: right;\n",
       "    }\n",
       "</style>\n",
       "<table border=\"1\" class=\"dataframe\">\n",
       "  <thead>\n",
       "    <tr style=\"text-align: right;\">\n",
       "      <th></th>\n",
       "      <th>band</th>\n",
       "      <th>year</th>\n",
       "      <th>species</th>\n",
       "      <th>beaklength</th>\n",
       "      <th>beakdepth</th>\n",
       "    </tr>\n",
       "  </thead>\n",
       "  <tbody>\n",
       "    <tr>\n",
       "      <th>0</th>\n",
       "      <td>2</td>\n",
       "      <td>1975</td>\n",
       "      <td>fortis</td>\n",
       "      <td>9.4</td>\n",
       "      <td>8.0</td>\n",
       "    </tr>\n",
       "    <tr>\n",
       "      <th>1</th>\n",
       "      <td>9</td>\n",
       "      <td>1975</td>\n",
       "      <td>fortis</td>\n",
       "      <td>9.2</td>\n",
       "      <td>8.3</td>\n",
       "    </tr>\n",
       "    <tr>\n",
       "      <th>2</th>\n",
       "      <td>12</td>\n",
       "      <td>1975</td>\n",
       "      <td>fortis</td>\n",
       "      <td>9.5</td>\n",
       "      <td>7.5</td>\n",
       "    </tr>\n",
       "    <tr>\n",
       "      <th>3</th>\n",
       "      <td>15</td>\n",
       "      <td>1975</td>\n",
       "      <td>fortis</td>\n",
       "      <td>9.5</td>\n",
       "      <td>8.0</td>\n",
       "    </tr>\n",
       "    <tr>\n",
       "      <th>4</th>\n",
       "      <td>305</td>\n",
       "      <td>1975</td>\n",
       "      <td>fortis</td>\n",
       "      <td>11.5</td>\n",
       "      <td>9.9</td>\n",
       "    </tr>\n",
       "  </tbody>\n",
       "</table>\n",
       "</div>"
      ],
      "text/plain": [
       "   band  year species  beaklength  beakdepth\n",
       "0     2  1975  fortis         9.4        8.0\n",
       "1     9  1975  fortis         9.2        8.3\n",
       "2    12  1975  fortis         9.5        7.5\n",
       "3    15  1975  fortis         9.5        8.0\n",
       "4   305  1975  fortis        11.5        9.9"
      ]
     },
     "execution_count": 81,
     "metadata": {},
     "output_type": "execute_result"
    }
   ],
   "source": [
    "finches = pd.read_csv(r'../resources/finch_beaks.csv')\n",
    "finches.head()"
   ]
  },
  {
   "cell_type": "code",
   "execution_count": 79,
   "id": "5a8a1c98",
   "metadata": {},
   "outputs": [
    {
     "data": {
      "text/html": [
       "<div>\n",
       "<style scoped>\n",
       "    .dataframe tbody tr th:only-of-type {\n",
       "        vertical-align: middle;\n",
       "    }\n",
       "\n",
       "    .dataframe tbody tr th {\n",
       "        vertical-align: top;\n",
       "    }\n",
       "\n",
       "    .dataframe thead th {\n",
       "        text-align: right;\n",
       "    }\n",
       "</style>\n",
       "<table border=\"1\" class=\"dataframe\">\n",
       "  <thead>\n",
       "    <tr style=\"text-align: right;\">\n",
       "      <th></th>\n",
       "      <th>band</th>\n",
       "      <th>year</th>\n",
       "      <th>species</th>\n",
       "      <th>beaklength</th>\n",
       "      <th>beakdepth</th>\n",
       "    </tr>\n",
       "  </thead>\n",
       "  <tbody>\n",
       "    <tr>\n",
       "      <th>646</th>\n",
       "      <td>21295</td>\n",
       "      <td>2012</td>\n",
       "      <td>scandens</td>\n",
       "      <td>14.2</td>\n",
       "      <td>9.3</td>\n",
       "    </tr>\n",
       "    <tr>\n",
       "      <th>647</th>\n",
       "      <td>21297</td>\n",
       "      <td>2012</td>\n",
       "      <td>scandens</td>\n",
       "      <td>13.0</td>\n",
       "      <td>9.8</td>\n",
       "    </tr>\n",
       "    <tr>\n",
       "      <th>648</th>\n",
       "      <td>21340</td>\n",
       "      <td>2012</td>\n",
       "      <td>scandens</td>\n",
       "      <td>14.6</td>\n",
       "      <td>8.9</td>\n",
       "    </tr>\n",
       "    <tr>\n",
       "      <th>649</th>\n",
       "      <td>21342</td>\n",
       "      <td>2012</td>\n",
       "      <td>scandens</td>\n",
       "      <td>13.1</td>\n",
       "      <td>9.8</td>\n",
       "    </tr>\n",
       "    <tr>\n",
       "      <th>650</th>\n",
       "      <td>21347</td>\n",
       "      <td>2012</td>\n",
       "      <td>scandens</td>\n",
       "      <td>15.2</td>\n",
       "      <td>9.1</td>\n",
       "    </tr>\n",
       "  </tbody>\n",
       "</table>\n",
       "</div>"
      ],
      "text/plain": [
       "      band  year   species  beaklength  beakdepth\n",
       "646  21295  2012  scandens        14.2        9.3\n",
       "647  21297  2012  scandens        13.0        9.8\n",
       "648  21340  2012  scandens        14.6        8.9\n",
       "649  21342  2012  scandens        13.1        9.8\n",
       "650  21347  2012  scandens        15.2        9.1"
      ]
     },
     "execution_count": 79,
     "metadata": {},
     "output_type": "execute_result"
    }
   ],
   "source": [
    "finches.tail()"
   ]
  },
  {
   "cell_type": "markdown",
   "id": "ea31c91d",
   "metadata": {},
   "source": [
    "Lets start by choosing one year's worth of finches to analyse."
   ]
  },
  {
   "cell_type": "code",
   "execution_count": 25,
   "id": "893b2c9b",
   "metadata": {},
   "outputs": [
    {
     "data": {
      "text/plain": [
       "array(['fortis', 'scandens'], dtype=object)"
      ]
     },
     "execution_count": 25,
     "metadata": {},
     "output_type": "execute_result"
    }
   ],
   "source": [
    "finches75 = finches[finches.year==1975]\n",
    "np.unique(finches.species)"
   ]
  },
  {
   "cell_type": "markdown",
   "id": "6555061a",
   "metadata": {},
   "source": [
    " Step one is ALWAYS to look at your data:"
   ]
  },
  {
   "cell_type": "code",
   "execution_count": 83,
   "id": "d0977837",
   "metadata": {},
   "outputs": [
    {
     "data": {
      "text/plain": [
       "Text(0.5, 1.0, 'Distributions of beak Lengths by species')"
      ]
     },
     "execution_count": 83,
     "metadata": {},
     "output_type": "execute_result"
    },
    {
     "data": {
      "image/png": "[encoded data removed]",
      "text/plain": [
       "<Figure size 432x288 with 1 Axes>"
      ]
     },
     "metadata": {
      "needs_background": "light"
     },
     "output_type": "display_data"
    }
   ],
   "source": [
    "fig,ax = plt.subplots()\n",
    "ax.hist(finches75[finches75.species=='fortis'].beaklength,density = True,histtype='step',label='fortis');\n",
    "ax.hist(finches75[finches75.species=='scandens'].beaklength,density = True,histtype='step',label='scandens');\n",
    "ax.set_ylabel('density')\n",
    "ax.set_xlabel('pH')\n",
    "ax.legend()\n",
    "ax.set_title('Distributions of beak Lengths by species')"
   ]
  },
  {
   "cell_type": "markdown",
   "id": "5bd2b439",
   "metadata": {},
   "source": [
    "Now, lets say that we want to model beak length as a function of finch species. Another way of saying that is \"Lets ask if Beak Length is encoded by species information.\" Perhapse the simplest model we could build would look like this:\n",
    "\n",
    "$$y = \\beta x+C$$\n",
    "\n",
    "Here, $y$ is our beak length and $X$ is species information. $\\beta$ and $C$ are constants.\n",
    "\n",
    "Yoni's Latex is rusty...will fill in th math bit later\n"
   ]
  },
  {
   "cell_type": "markdown",
   "id": "e75cfb40",
   "metadata": {},
   "source": [
    "Convert to one-hot for regression model"
   ]
  },
  {
   "cell_type": "code",
   "execution_count": 50,
   "id": "8ebd2131",
   "metadata": {},
   "outputs": [],
   "source": [
    "its_a_fortis = np.array(finches75.species == 'fortis')\n",
    "its_a_scandens = np.array(finches75.species=='scandens')\n",
    "X75 = np.vstack([its_a_fortis,its_a_scandens]).T\n",
    "X75 = X75.astype(int)"
   ]
  },
  {
   "cell_type": "markdown",
   "id": "94c9015e",
   "metadata": {},
   "source": [
    "Also get y"
   ]
  },
  {
   "cell_type": "code",
   "execution_count": 51,
   "id": "3e6c3ecf",
   "metadata": {},
   "outputs": [],
   "source": [
    "y75 = finches75.beaklength"
   ]
  },
  {
   "cell_type": "markdown",
   "id": "6afde692",
   "metadata": {},
   "source": [
    "Now instantiate a fitting object"
   ]
  },
  {
   "cell_type": "code",
   "execution_count": 52,
   "id": "f6f2390e",
   "metadata": {},
   "outputs": [],
   "source": [
    "LinearModel = lm.LinearRegression(fit_intercept=False) # Why false-->discuss"
   ]
  },
  {
   "cell_type": "markdown",
   "id": "bbb8fac1",
   "metadata": {},
   "source": [
    "Then use it to fit the model"
   ]
  },
  {
   "cell_type": "code",
   "execution_count": 53,
   "id": "06726c71",
   "metadata": {},
   "outputs": [
    {
     "data": {
      "text/plain": [
       "LinearRegression(fit_intercept=False)"
      ]
     },
     "execution_count": 53,
     "metadata": {},
     "output_type": "execute_result"
    }
   ],
   "source": [
    "LinearModel.fit(X75,y75)"
   ]
  },
  {
   "cell_type": "markdown",
   "id": "8f5f87a8",
   "metadata": {},
   "source": [
    "And look at the results!"
   ]
  },
  {
   "cell_type": "code",
   "execution_count": 85,
   "id": "ded9ad50",
   "metadata": {},
   "outputs": [
    {
     "data": {
      "text/plain": [
       "array([10.56518987, 14.12091954])"
      ]
     },
     "execution_count": 85,
     "metadata": {},
     "output_type": "execute_result"
    }
   ],
   "source": [
    "LinearModel.coef_"
   ]
  },
  {
   "cell_type": "markdown",
   "id": "555a6368",
   "metadata": {},
   "source": [
    "Could include some prediction here?"
   ]
  },
  {
   "cell_type": "code",
   "execution_count": 65,
   "id": "c0e9d12d",
   "metadata": {},
   "outputs": [],
   "source": [
    "prediction75 = LinearModel.predict(X75)\n",
    "# Would have been better if we held out some data...but maybe more than is needed for this example."
   ]
  },
  {
   "cell_type": "code",
   "execution_count": 66,
   "id": "a9f35836",
   "metadata": {},
   "outputs": [
    {
     "name": "stdout",
     "output_type": "stream",
     "text": [
      "10.56518987341772\n",
      "14.120919540229886\n"
     ]
    }
   ],
   "source": [
    "print(prediction75[0])\n",
    "print(prediction75[-1])"
   ]
  },
  {
   "cell_type": "code",
   "execution_count": 89,
   "id": "979d6264",
   "metadata": {},
   "outputs": [
    {
     "data": {
      "text/plain": [
       "0.8184106108215392"
      ]
     },
     "execution_count": 89,
     "metadata": {},
     "output_type": "execute_result"
    }
   ],
   "source": []
  },
  {
   "cell_type": "markdown",
   "id": "409ae70b",
   "metadata": {},
   "source": [
    "Plot residuals, that is, distributions of model error."
   ]
  },
  {
   "cell_type": "code",
   "execution_count": 119,
   "id": "c18683f8",
   "metadata": {},
   "outputs": [
    {
     "data": {
      "image/png": "[encoded data removed]",
      "text/plain": [
       "<Figure size 432x288 with 1 Axes>"
      ]
     },
     "metadata": {
      "needs_background": "light"
     },
     "output_type": "display_data"
    }
   ],
   "source": [
    "fig,ax = plt.subplots()\n",
    "ax.hist(y75-prediction75,20)\n",
    "ax.set_ylabel('# of samples')\n",
    "ax.set_xlabel('Residual (mm)');\n"
   ]
  },
  {
   "cell_type": "markdown",
   "id": "2572e505",
   "metadata": {},
   "source": [
    "We really want one number to assess our mode...\n",
    "Insert math describing variance explained here."
   ]
  },
  {
   "cell_type": "code",
   "execution_count": 120,
   "id": "27a4b50c",
   "metadata": {},
   "outputs": [
    {
     "data": {
      "text/plain": [
       "0.818086222423725"
      ]
     },
     "execution_count": 120,
     "metadata": {},
     "output_type": "execute_result"
    }
   ],
   "source": [
    "LinearModel.score(X75,y75)"
   ]
  },
  {
   "cell_type": "markdown",
   "id": "cb7ccc1d",
   "metadata": {},
   "source": [
    "but is this real a fair analysis?"
   ]
  },
  {
   "cell_type": "code",
   "execution_count": 104,
   "id": "f11a34fa",
   "metadata": {},
   "outputs": [
    {
     "name": "stdout",
     "output_type": "stream",
     "text": [
      "(403, 2)\n",
      "(302, 2)\n",
      "(101, 2)\n"
     ]
    }
   ],
   "source": [
    "train_X75,test_X75,train_y75,test_y75 = train_test_split(X75,y75)\n",
    "print(X75.shape)\n",
    "print(train_X75.shape)\n",
    "print(test_X75.shape)"
   ]
  },
  {
   "cell_type": "code",
   "execution_count": 123,
   "id": "8a66ec5c",
   "metadata": {},
   "outputs": [
    {
     "data": {
      "text/plain": [
       "LinearRegression(fit_intercept=False)"
      ]
     },
     "execution_count": 123,
     "metadata": {},
     "output_type": "execute_result"
    }
   ],
   "source": [
    "LinearModel = lm.LinearRegression(fit_intercept=False)\n",
    "LinearModel.fit(train_X75,train_y75)\n"
   ]
  },
  {
   "cell_type": "code",
   "execution_count": 126,
   "id": "c893ced2",
   "metadata": {},
   "outputs": [
    {
     "data": {
      "image/png": "[encoded data removed]",
      "text/plain": [
       "<Figure size 432x288 with 1 Axes>"
      ]
     },
     "metadata": {
      "needs_background": "light"
     },
     "output_type": "display_data"
    }
   ],
   "source": [
    "trainprediction75 = LinearModel.predict(train_X75)\n",
    "\n",
    "testprediction75 = LinearModel.predict(test_X75)\n",
    "fig,ax = plt.subplots()\n",
    "ax.hist(train_y75-trainprediction75,20,density = True,histtype='step',label='Train Residuals')\n",
    "ax.hist(test_y75-testprediction75,20,density = True,histtype='step',label='Test Residuals');\n",
    "ax.set_ylabel('# of samples')\n",
    "ax.set_xlabel('Residual (mm)');"
   ]
  },
  {
   "cell_type": "code",
   "execution_count": 125,
   "id": "daa20ffd",
   "metadata": {},
   "outputs": [
    {
     "data": {
      "text/plain": [
       "0.8010839942882125"
      ]
     },
     "execution_count": 125,
     "metadata": {},
     "output_type": "execute_result"
    }
   ],
   "source": [
    "LinearModel.score(test_X75,test_y75)"
   ]
  },
  {
   "cell_type": "markdown",
   "id": "83607667",
   "metadata": {},
   "source": [
    "Not too much worse!"
   ]
  },
  {
   "cell_type": "markdown",
   "id": "aef9ed44",
   "metadata": {},
   "source": [
    "We can also apply our model to new data.\n",
    "Lets take data"
   ]
  },
  {
   "cell_type": "code",
   "execution_count": 61,
   "id": "075ba114",
   "metadata": {},
   "outputs": [
    {
     "data": {
      "text/html": [
       "<div>\n",
       "<style scoped>\n",
       "    .dataframe tbody tr th:only-of-type {\n",
       "        vertical-align: middle;\n",
       "    }\n",
       "\n",
       "    .dataframe tbody tr th {\n",
       "        vertical-align: top;\n",
       "    }\n",
       "\n",
       "    .dataframe thead th {\n",
       "        text-align: right;\n",
       "    }\n",
       "</style>\n",
       "<table border=\"1\" class=\"dataframe\">\n",
       "  <thead>\n",
       "    <tr style=\"text-align: right;\">\n",
       "      <th></th>\n",
       "      <th>band</th>\n",
       "      <th>year</th>\n",
       "      <th>species</th>\n",
       "      <th>beaklength</th>\n",
       "      <th>beakdepth</th>\n",
       "    </tr>\n",
       "  </thead>\n",
       "  <tbody>\n",
       "    <tr>\n",
       "      <th>403</th>\n",
       "      <td>19022</td>\n",
       "      <td>2012</td>\n",
       "      <td>fortis</td>\n",
       "      <td>10.0</td>\n",
       "      <td>8.5</td>\n",
       "    </tr>\n",
       "    <tr>\n",
       "      <th>404</th>\n",
       "      <td>19028</td>\n",
       "      <td>2012</td>\n",
       "      <td>fortis</td>\n",
       "      <td>12.5</td>\n",
       "      <td>8.9</td>\n",
       "    </tr>\n",
       "    <tr>\n",
       "      <th>405</th>\n",
       "      <td>19032</td>\n",
       "      <td>2012</td>\n",
       "      <td>fortis</td>\n",
       "      <td>9.3</td>\n",
       "      <td>7.5</td>\n",
       "    </tr>\n",
       "    <tr>\n",
       "      <th>406</th>\n",
       "      <td>19041</td>\n",
       "      <td>2012</td>\n",
       "      <td>fortis</td>\n",
       "      <td>10.3</td>\n",
       "      <td>9.6</td>\n",
       "    </tr>\n",
       "    <tr>\n",
       "      <th>407</th>\n",
       "      <td>19044</td>\n",
       "      <td>2012</td>\n",
       "      <td>fortis</td>\n",
       "      <td>11.0</td>\n",
       "      <td>9.2</td>\n",
       "    </tr>\n",
       "  </tbody>\n",
       "</table>\n",
       "</div>"
      ],
      "text/plain": [
       "      band  year species  beaklength  beakdepth\n",
       "403  19022  2012  fortis        10.0        8.5\n",
       "404  19028  2012  fortis        12.5        8.9\n",
       "405  19032  2012  fortis         9.3        7.5\n",
       "406  19041  2012  fortis        10.3        9.6\n",
       "407  19044  2012  fortis        11.0        9.2"
      ]
     },
     "execution_count": 61,
     "metadata": {},
     "output_type": "execute_result"
    }
   ],
   "source": [
    "finches12 = finches[finches.year==2012]\n",
    "finches12.head()"
   ]
  },
  {
   "cell_type": "code",
   "execution_count": 48,
   "id": "a6542ae1",
   "metadata": {},
   "outputs": [
    {
     "data": {
      "text/plain": [
       "<matplotlib.legend.Legend at 0x2daeadb7308>"
      ]
     },
     "execution_count": 48,
     "metadata": {},
     "output_type": "execute_result"
    },
    {
     "data": {
      "image/png": "[encoded data removed]",
      "text/plain": [
       "<Figure size 432x288 with 1 Axes>"
      ]
     },
     "metadata": {
      "needs_background": "light"
     },
     "output_type": "display_data"
    }
   ],
   "source": [
    "fig,ax = plt.subplots()\n",
    "ax.hist(finches12[finches12.species=='fortis'].beaklength,density = True,histtype='step',label='fortis',color = 'blue');\n",
    "ax.hist(finches75[finches75.species=='fortis'].beaklength,density = True,histtype='bar',alpha = .5,label='fortis',color = 'blue');\n",
    "\n",
    "ax.hist(finches12[finches12.species=='scandens'].beaklength,density = True,histtype='step',label='scandens',color = 'orange');\n",
    "ax.hist(finches75[finches75.species=='scandens'].beaklength,density = True,histtype='bar',alpha = .5,label='scandens',color = 'orange');\n",
    "\n",
    "ax.set_ylabel('density')\n",
    "ax.set_xlabel('pH')\n",
    "ax.legend()"
   ]
  },
  {
   "cell_type": "code",
   "execution_count": 72,
   "id": "78dae894",
   "metadata": {},
   "outputs": [],
   "source": [
    "its_a_fortis = np.array(finches12.species == 'fortis')\n",
    "its_a_scandens = np.array(finches12.species=='scandens')\n",
    "X12 = np.vstack([its_a_fortis,its_a_scandens]).T\n",
    "X12 = X12.astype(int)\n",
    "y12 = finches12.beaklength"
   ]
  },
  {
   "cell_type": "code",
   "execution_count": 75,
   "id": "a80d21d8",
   "metadata": {},
   "outputs": [
    {
     "data": {
      "text/plain": [
       "(array([ 1.,  1.,  3.,  7.,  8., 13., 28., 27., 37., 28., 36., 17., 15.,\n",
       "         8.,  5.,  5.,  1.,  3.,  2.,  3.]),\n",
       " array([-2.72091954, -2.46813306, -2.21534657, -1.96256009, -1.70977361,\n",
       "        -1.45698712, -1.20420064, -0.95141416, -0.69862767, -0.44584119,\n",
       "        -0.19305471,  0.05973178,  0.31251826,  0.56530474,  0.81809123,\n",
       "         1.07087771,  1.32366419,  1.57645068,  1.82923716,  2.08202364,\n",
       "         2.33481013]),\n",
       " <BarContainer object of 20 artists>)"
      ]
     },
     "execution_count": 75,
     "metadata": {},
     "output_type": "execute_result"
    },
    {
     "data": {
      "image/png": "[encoded data removed]",
      "text/plain": [
       "<Figure size 432x288 with 1 Axes>"
      ]
     },
     "metadata": {
      "needs_background": "light"
     },
     "output_type": "display_data"
    }
   ],
   "source": [
    "prediction12 = LinearModel.predict(X12)\n",
    "fig,ax = plt.subplots()\n",
    "ax.hist(y75-prediction75,20,alpha = .5)\n",
    "ax.hist(y12-prediction12,20,alpha = .5)"
   ]
  },
  {
   "cell_type": "code",
   "execution_count": 88,
   "id": "452275e6",
   "metadata": {},
   "outputs": [
    {
     "data": {
      "text/plain": [
       "0.6904874167394667"
      ]
     },
     "execution_count": 88,
     "metadata": {},
     "output_type": "execute_result"
    }
   ],
   "source": [
    "LinearModel.score(X12,y12)"
   ]
  },
  {
   "cell_type": "markdown",
   "id": "2a5a829f",
   "metadata": {},
   "source": [
    "This is worse then before!"
   ]
  },
  {
   "cell_type": "markdown",
   "id": "02a23143",
   "metadata": {},
   "source": [
    "This is exciting - A model fit on 1975 data does less well at predicting 2012 data than it does on held-out 1975 data. This suggests that between 1975 and 2012, the beak size of the finch species changes. It show that, even in a small timespan, physical feature of the finch species evolve! Amazing things can happen if you spend some time on an island."
   ]
  },
  {
   "cell_type": "markdown",
   "id": "66a243a7",
   "metadata": {},
   "source": [
    "After a little evolution for your monday, lets now go tackle a (statisticly) harder problem from neuroscience..."
   ]
  }
 ],
 "metadata": {
  "kernelspec": {
   "display_name": "Python 3 (ipykernel)",
   "language": "python",
   "name": "python3"
  },
  "language_info": {
   "codemirror_mode": {
    "name": "ipython",
    "version": 3
   },
   "file_extension": ".py",
   "mimetype": "text/x-python",
   "name": "python",
   "nbconvert_exporter": "python",
   "pygments_lexer": "ipython3",
   "version": "3.7.13"
  }
 },
 "nbformat": 4,
 "nbformat_minor": 5
}
