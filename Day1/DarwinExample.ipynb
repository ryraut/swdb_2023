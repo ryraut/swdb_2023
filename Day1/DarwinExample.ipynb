{
 "cells": [
  {
   "cell_type": "code",
   "execution_count": 22,
   "id": "f7ec2664",
   "metadata": {},
   "outputs": [],
   "source": [
    "import pandas as pd\n",
    "import numpy as np\n",
    "from matplotlib import pyplot as plt\n",
    "import sklearn.linear_model as lm"
   ]
  },
  {
   "cell_type": "markdown",
   "id": "a1248453",
   "metadata": {},
   "source": [
    "Load and Look at data"
   ]
  },
  {
   "cell_type": "code",
   "execution_count": 23,
   "id": "e86d902c",
   "metadata": {},
   "outputs": [
    {
     "data": {
      "text/html": [
       "<div>\n",
       "<style scoped>\n",
       "    .dataframe tbody tr th:only-of-type {\n",
       "        vertical-align: middle;\n",
       "    }\n",
       "\n",
       "    .dataframe tbody tr th {\n",
       "        vertical-align: top;\n",
       "    }\n",
       "\n",
       "    .dataframe thead th {\n",
       "        text-align: right;\n",
       "    }\n",
       "</style>\n",
       "<table border=\"1\" class=\"dataframe\">\n",
       "  <thead>\n",
       "    <tr style=\"text-align: right;\">\n",
       "      <th></th>\n",
       "      <th>band</th>\n",
       "      <th>year</th>\n",
       "      <th>species</th>\n",
       "      <th>beaklength</th>\n",
       "      <th>beakdepth</th>\n",
       "    </tr>\n",
       "  </thead>\n",
       "  <tbody>\n",
       "    <tr>\n",
       "      <th>0</th>\n",
       "      <td>2</td>\n",
       "      <td>1975</td>\n",
       "      <td>fortis</td>\n",
       "      <td>9.4</td>\n",
       "      <td>8.0</td>\n",
       "    </tr>\n",
       "    <tr>\n",
       "      <th>1</th>\n",
       "      <td>9</td>\n",
       "      <td>1975</td>\n",
       "      <td>fortis</td>\n",
       "      <td>9.2</td>\n",
       "      <td>8.3</td>\n",
       "    </tr>\n",
       "    <tr>\n",
       "      <th>2</th>\n",
       "      <td>12</td>\n",
       "      <td>1975</td>\n",
       "      <td>fortis</td>\n",
       "      <td>9.5</td>\n",
       "      <td>7.5</td>\n",
       "    </tr>\n",
       "    <tr>\n",
       "      <th>3</th>\n",
       "      <td>15</td>\n",
       "      <td>1975</td>\n",
       "      <td>fortis</td>\n",
       "      <td>9.5</td>\n",
       "      <td>8.0</td>\n",
       "    </tr>\n",
       "    <tr>\n",
       "      <th>4</th>\n",
       "      <td>305</td>\n",
       "      <td>1975</td>\n",
       "      <td>fortis</td>\n",
       "      <td>11.5</td>\n",
       "      <td>9.9</td>\n",
       "    </tr>\n",
       "  </tbody>\n",
       "</table>\n",
       "</div>"
      ],
      "text/plain": [
       "   band  year species  beaklength  beakdepth\n",
       "0     2  1975  fortis         9.4        8.0\n",
       "1     9  1975  fortis         9.2        8.3\n",
       "2    12  1975  fortis         9.5        7.5\n",
       "3    15  1975  fortis         9.5        8.0\n",
       "4   305  1975  fortis        11.5        9.9"
      ]
     },
     "execution_count": 23,
     "metadata": {},
     "output_type": "execute_result"
    }
   ],
   "source": [
    "finches = pd.read_csv(r'../resources/finch_beaks.csv')\n",
    "finches.head()"
   ]
  },
  {
   "cell_type": "code",
   "execution_count": 25,
   "id": "c39ab717",
   "metadata": {},
   "outputs": [
    {
     "data": {
      "text/plain": [
       "array(['fortis', 'scandens'], dtype=object)"
      ]
     },
     "execution_count": 25,
     "metadata": {},
     "output_type": "execute_result"
    }
   ],
   "source": [
    "finches75 = finches[finches.year==1975]\n",
    "np.unique(finches.species)"
   ]
  },
  {
   "cell_type": "markdown",
   "id": "6555061a",
   "metadata": {},
   "source": [
    "Plot some data"
   ]
  },
  {
   "cell_type": "code",
   "execution_count": 30,
   "id": "d0977837",
   "metadata": {},
   "outputs": [
    {
     "data": {
      "text/plain": [
       "<matplotlib.legend.Legend at 0x2dae5ce4088>"
      ]
     },
     "execution_count": 30,
     "metadata": {},
     "output_type": "execute_result"
    },
    {
     "data": {
      "image/png": "[encoded data removed]",
      "text/plain": [
       "<Figure size 432x288 with 1 Axes>"
      ]
     },
     "metadata": {
      "needs_background": "light"
     },
     "output_type": "display_data"
    }
   ],
   "source": [
    "fig,ax = plt.subplots()\n",
    "ax.hist(finches75[finches75.species=='fortis'].beaklength,density = True,histtype='step',label='fortis');\n",
    "ax.hist(finches75[finches75.species=='scandens'].beaklength,density = True,histtype='step',label='scandens');\n",
    "ax.set_ylabel('density')\n",
    "ax.set_xlabel('pH')\n",
    "ax.legend()"
   ]
  },
  {
   "cell_type": "markdown",
   "id": "e75cfb40",
   "metadata": {},
   "source": [
    "Convert to one-hot for regression model"
   ]
  },
  {
   "cell_type": "code",
   "execution_count": 50,
   "id": "8ebd2131",
   "metadata": {},
   "outputs": [],
   "source": [
    "its_a_fortis = np.array(finches75.species == 'fortis')\n",
    "its_a_scandens = np.array(finches75.species=='scandens')\n",
    "X75 = np.vstack([its_a_fortis,its_a_scandens]).T\n",
    "X75 = X75.astype(int)"
   ]
  },
  {
   "cell_type": "markdown",
   "id": "94c9015e",
   "metadata": {},
   "source": [
    "Also get y"
   ]
  },
  {
   "cell_type": "code",
   "execution_count": 51,
   "id": "3e6c3ecf",
   "metadata": {},
   "outputs": [],
   "source": [
    "y75 = finches75.beaklength"
   ]
  },
  {
   "cell_type": "markdown",
   "id": "6afde692",
   "metadata": {},
   "source": [
    "Now instantiate a fitting object"
   ]
  },
  {
   "cell_type": "code",
   "execution_count": 52,
   "id": "f6f2390e",
   "metadata": {},
   "outputs": [],
   "source": [
    "LinearModel = lm.LinearRegression(fit_intercept=False) # Why false-->discuss"
   ]
  },
  {
   "cell_type": "markdown",
   "id": "bbb8fac1",
   "metadata": {},
   "source": [
    "Then use it to fit the model"
   ]
  },
  {
   "cell_type": "code",
   "execution_count": 53,
   "id": "06726c71",
   "metadata": {},
   "outputs": [
    {
     "data": {
      "text/plain": [
       "LinearRegression(fit_intercept=False)"
      ]
     },
     "execution_count": 53,
     "metadata": {},
     "output_type": "execute_result"
    }
   ],
   "source": [
    "LinearModel.fit(X75,y75)"
   ]
  },
  {
   "cell_type": "markdown",
   "id": "8f5f87a8",
   "metadata": {},
   "source": [
    "And look at the results!"
   ]
  },
  {
   "cell_type": "code",
   "execution_count": 54,
   "id": "ded9ad50",
   "metadata": {},
   "outputs": [
    {
     "data": {
      "text/plain": [
       "array([10.56518987, 14.12091954])"
      ]
     },
     "execution_count": 54,
     "metadata": {},
     "output_type": "execute_result"
    }
   ],
   "source": [
    "LinearModel.coef_"
   ]
  },
  {
   "cell_type": "markdown",
   "id": "244ff815",
   "metadata": {},
   "source": [
    "Another example-->\n",
    "We can answer the age old question of Which is better, red wine or white wine (in portugal, anyway)?"
   ]
  },
  {
   "cell_type": "code",
   "execution_count": 55,
   "id": "301bfc41",
   "metadata": {},
   "outputs": [
    {
     "data": {
      "text/plain": [
       "array([10.56518987, 14.12091954])"
      ]
     },
     "execution_count": 55,
     "metadata": {},
     "output_type": "execute_result"
    }
   ],
   "source": [
    "LinearModel = lm.LinearRegression(fit_intercept=False)\n",
    "LinearModel.fit(X75,y75)\n",
    "LinearModel.coef_"
   ]
  },
  {
   "cell_type": "markdown",
   "id": "555a6368",
   "metadata": {},
   "source": [
    "Could include some prediction here?"
   ]
  },
  {
   "cell_type": "code",
   "execution_count": 65,
   "id": "c0e9d12d",
   "metadata": {},
   "outputs": [],
   "source": [
    "prediction75 = LinearModel.predict(X75)\n",
    "# Would have been better if we held out some data...but maybe more than is needed for this example."
   ]
  },
  {
   "cell_type": "code",
   "execution_count": 66,
   "id": "188d9cd0",
   "metadata": {},
   "outputs": [
    {
     "name": "stdout",
     "output_type": "stream",
     "text": [
      "10.56518987341772\n",
      "14.120919540229886\n"
     ]
    }
   ],
   "source": [
    "print(prediction75[0])\n",
    "print(prediction75[-1])"
   ]
  },
  {
   "cell_type": "markdown",
   "id": "43ae8e84",
   "metadata": {},
   "source": [
    "Plot residuals"
   ]
  },
  {
   "cell_type": "code",
   "execution_count": 69,
   "id": "6d98bf45",
   "metadata": {},
   "outputs": [
    {
     "data": {
      "text/plain": [
       "(array([ 2.,  1.,  9.,  8., 16., 22., 29., 26., 44., 48., 30., 45., 33.,\n",
       "        26., 17., 23., 13.,  5.,  5.,  1.]),\n",
       " array([-1.86518987, -1.68097636, -1.49676284, -1.31254932, -1.12833581,\n",
       "        -0.94412229, -0.75990877, -0.57569526, -0.39148174, -0.20726822,\n",
       "        -0.02305471,  0.16115881,  0.34537233,  0.52958584,  0.71379936,\n",
       "         0.89801288,  1.08222639,  1.26643991,  1.45065343,  1.63486694,\n",
       "         1.81908046]),\n",
       " <BarContainer object of 20 artists>)"
      ]
     },
     "execution_count": 69,
     "metadata": {},
     "output_type": "execute_result"
    },
    {
     "data": {
      "image/png": "[encoded data removed]",
      "text/plain": [
       "<Figure size 432x288 with 1 Axes>"
      ]
     },
     "metadata": {
      "needs_background": "light"
     },
     "output_type": "display_data"
    }
   ],
   "source": [
    "fig,ax = plt.subplots()\n",
    "ax.hist(y75-prediction75,20)"
   ]
  },
  {
   "cell_type": "code",
   "execution_count": 61,
   "id": "075ba114",
   "metadata": {},
   "outputs": [
    {
     "data": {
      "text/html": [
       "<div>\n",
       "<style scoped>\n",
       "    .dataframe tbody tr th:only-of-type {\n",
       "        vertical-align: middle;\n",
       "    }\n",
       "\n",
       "    .dataframe tbody tr th {\n",
       "        vertical-align: top;\n",
       "    }\n",
       "\n",
       "    .dataframe thead th {\n",
       "        text-align: right;\n",
       "    }\n",
       "</style>\n",
       "<table border=\"1\" class=\"dataframe\">\n",
       "  <thead>\n",
       "    <tr style=\"text-align: right;\">\n",
       "      <th></th>\n",
       "      <th>band</th>\n",
       "      <th>year</th>\n",
       "      <th>species</th>\n",
       "      <th>beaklength</th>\n",
       "      <th>beakdepth</th>\n",
       "    </tr>\n",
       "  </thead>\n",
       "  <tbody>\n",
       "    <tr>\n",
       "      <th>403</th>\n",
       "      <td>19022</td>\n",
       "      <td>2012</td>\n",
       "      <td>fortis</td>\n",
       "      <td>10.0</td>\n",
       "      <td>8.5</td>\n",
       "    </tr>\n",
       "    <tr>\n",
       "      <th>404</th>\n",
       "      <td>19028</td>\n",
       "      <td>2012</td>\n",
       "      <td>fortis</td>\n",
       "      <td>12.5</td>\n",
       "      <td>8.9</td>\n",
       "    </tr>\n",
       "    <tr>\n",
       "      <th>405</th>\n",
       "      <td>19032</td>\n",
       "      <td>2012</td>\n",
       "      <td>fortis</td>\n",
       "      <td>9.3</td>\n",
       "      <td>7.5</td>\n",
       "    </tr>\n",
       "    <tr>\n",
       "      <th>406</th>\n",
       "      <td>19041</td>\n",
       "      <td>2012</td>\n",
       "      <td>fortis</td>\n",
       "      <td>10.3</td>\n",
       "      <td>9.6</td>\n",
       "    </tr>\n",
       "    <tr>\n",
       "      <th>407</th>\n",
       "      <td>19044</td>\n",
       "      <td>2012</td>\n",
       "      <td>fortis</td>\n",
       "      <td>11.0</td>\n",
       "      <td>9.2</td>\n",
       "    </tr>\n",
       "  </tbody>\n",
       "</table>\n",
       "</div>"
      ],
      "text/plain": [
       "      band  year species  beaklength  beakdepth\n",
       "403  19022  2012  fortis        10.0        8.5\n",
       "404  19028  2012  fortis        12.5        8.9\n",
       "405  19032  2012  fortis         9.3        7.5\n",
       "406  19041  2012  fortis        10.3        9.6\n",
       "407  19044  2012  fortis        11.0        9.2"
      ]
     },
     "execution_count": 61,
     "metadata": {},
     "output_type": "execute_result"
    }
   ],
   "source": [
    "finches12 = finches[finches.year==2012]\n",
    "finches12.head()"
   ]
  },
  {
   "cell_type": "code",
   "execution_count": 48,
   "id": "718b8732",
   "metadata": {},
   "outputs": [
    {
     "data": {
      "text/plain": [
       "<matplotlib.legend.Legend at 0x2daeadb7308>"
      ]
     },
     "execution_count": 48,
     "metadata": {},
     "output_type": "execute_result"
    },
    {
     "data": {
      "image/png": "[encoded data removed]",
      "text/plain": [
       "<Figure size 432x288 with 1 Axes>"
      ]
     },
     "metadata": {
      "needs_background": "light"
     },
     "output_type": "display_data"
    }
   ],
   "source": [
    "fig,ax = plt.subplots()\n",
    "ax.hist(finches12[finches12.species=='fortis'].beaklength,density = True,histtype='step',label='fortis',color = 'blue');\n",
    "ax.hist(finches75[finches75.species=='fortis'].beaklength,density = True,histtype='bar',alpha = .5,label='fortis',color = 'blue');\n",
    "\n",
    "ax.hist(finches12[finches12.species=='scandens'].beaklength,density = True,histtype='step',label='scandens',color = 'orange');\n",
    "ax.hist(finches75[finches75.species=='scandens'].beaklength,density = True,histtype='bar',alpha = .5,label='scandens',color = 'orange');\n",
    "\n",
    "ax.set_ylabel('density')\n",
    "ax.set_xlabel('pH')\n",
    "ax.legend()"
   ]
  },
  {
   "cell_type": "code",
   "execution_count": 72,
   "id": "a1ddf1c8",
   "metadata": {},
   "outputs": [],
   "source": [
    "its_a_fortis = np.array(finches12.species == 'fortis')\n",
    "its_a_scandens = np.array(finches12.species=='scandens')\n",
    "X12 = np.vstack([its_a_fortis,its_a_scandens]).T\n",
    "X12 = X12.astype(int)\n",
    "y12 = finches12.beaklength"
   ]
  },
  {
   "cell_type": "code",
   "execution_count": 75,
   "id": "3a076720",
   "metadata": {},
   "outputs": [
    {
     "data": {
      "text/plain": [
       "(array([ 1.,  1.,  3.,  7.,  8., 13., 28., 27., 37., 28., 36., 17., 15.,\n",
       "         8.,  5.,  5.,  1.,  3.,  2.,  3.]),\n",
       " array([-2.72091954, -2.46813306, -2.21534657, -1.96256009, -1.70977361,\n",
       "        -1.45698712, -1.20420064, -0.95141416, -0.69862767, -0.44584119,\n",
       "        -0.19305471,  0.05973178,  0.31251826,  0.56530474,  0.81809123,\n",
       "         1.07087771,  1.32366419,  1.57645068,  1.82923716,  2.08202364,\n",
       "         2.33481013]),\n",
       " <BarContainer object of 20 artists>)"
      ]
     },
     "execution_count": 75,
     "metadata": {},
     "output_type": "execute_result"
    },
    {
     "data": {
      "image/png": "[encoded data removed]",
      "text/plain": [
       "<Figure size 432x288 with 1 Axes>"
      ]
     },
     "metadata": {
      "needs_background": "light"
     },
     "output_type": "display_data"
    }
   ],
   "source": [
    "prediction12 = LinearModel.predict(X12)\n",
    "fig,ax = plt.subplots()\n",
    "ax.hist(y75-prediction75,20,alpha = .5)\n",
    "ax.hist(y12-prediction12,20,alpha = .5)"
   ]
  },
  {
   "cell_type": "code",
   "execution_count": null,
   "id": "0be1ba8a",
   "metadata": {},
   "outputs": [],
   "source": []
  }
 ],
 "metadata": {
  "kernelspec": {
   "display_name": "Python 3 (ipykernel)",
   "language": "python",
   "name": "python3"
  },
  "language_info": {
   "codemirror_mode": {
    "name": "ipython",
    "version": 3
   },
   "file_extension": ".py",
   "mimetype": "text/x-python",
   "name": "python",
   "nbconvert_exporter": "python",
   "pygments_lexer": "ipython3",
   "version": "3.7.13"
  }
 },
 "nbformat": 4,
 "nbformat_minor": 5
}
