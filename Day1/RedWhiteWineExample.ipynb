{
 "cells": [
  {
   "cell_type": "code",
   "execution_count": 50,
   "id": "f7ec2664",
   "metadata": {},
   "outputs": [],
   "source": [
    "import pandas as pd\n",
    "import numpy as np\n",
    "from matplotlib import pyplot as plt\n",
    "import sklearn.linear_model as lm"
   ]
  },
  {
   "cell_type": "markdown",
   "id": "a1248453",
   "metadata": {},
   "source": [
    "Load and Look at data"
   ]
  },
  {
   "cell_type": "code",
   "execution_count": 51,
   "id": "e86d902c",
   "metadata": {},
   "outputs": [
    {
     "data": {
      "text/html": [
       "<div>\n",
       "<style scoped>\n",
       "    .dataframe tbody tr th:only-of-type {\n",
       "        vertical-align: middle;\n",
       "    }\n",
       "\n",
       "    .dataframe tbody tr th {\n",
       "        vertical-align: top;\n",
       "    }\n",
       "\n",
       "    .dataframe thead th {\n",
       "        text-align: right;\n",
       "    }\n",
       "</style>\n",
       "<table border=\"1\" class=\"dataframe\">\n",
       "  <thead>\n",
       "    <tr style=\"text-align: right;\">\n",
       "      <th></th>\n",
       "      <th>type</th>\n",
       "      <th>fixed acidity</th>\n",
       "      <th>volatile acidity</th>\n",
       "      <th>citric acid</th>\n",
       "      <th>residual sugar</th>\n",
       "      <th>chlorides</th>\n",
       "      <th>free sulfur dioxide</th>\n",
       "      <th>total sulfur dioxide</th>\n",
       "      <th>density</th>\n",
       "      <th>pH</th>\n",
       "      <th>sulphates</th>\n",
       "      <th>alcohol</th>\n",
       "      <th>quality</th>\n",
       "    </tr>\n",
       "  </thead>\n",
       "  <tbody>\n",
       "    <tr>\n",
       "      <th>0</th>\n",
       "      <td>white</td>\n",
       "      <td>7.0</td>\n",
       "      <td>0.27</td>\n",
       "      <td>0.36</td>\n",
       "      <td>20.7</td>\n",
       "      <td>0.045</td>\n",
       "      <td>45.0</td>\n",
       "      <td>170.0</td>\n",
       "      <td>1.0010</td>\n",
       "      <td>3.00</td>\n",
       "      <td>0.45</td>\n",
       "      <td>8.8</td>\n",
       "      <td>6</td>\n",
       "    </tr>\n",
       "    <tr>\n",
       "      <th>1</th>\n",
       "      <td>white</td>\n",
       "      <td>6.3</td>\n",
       "      <td>0.30</td>\n",
       "      <td>0.34</td>\n",
       "      <td>1.6</td>\n",
       "      <td>0.049</td>\n",
       "      <td>14.0</td>\n",
       "      <td>132.0</td>\n",
       "      <td>0.9940</td>\n",
       "      <td>3.30</td>\n",
       "      <td>0.49</td>\n",
       "      <td>9.5</td>\n",
       "      <td>6</td>\n",
       "    </tr>\n",
       "    <tr>\n",
       "      <th>2</th>\n",
       "      <td>white</td>\n",
       "      <td>8.1</td>\n",
       "      <td>0.28</td>\n",
       "      <td>0.40</td>\n",
       "      <td>6.9</td>\n",
       "      <td>0.050</td>\n",
       "      <td>30.0</td>\n",
       "      <td>97.0</td>\n",
       "      <td>0.9951</td>\n",
       "      <td>3.26</td>\n",
       "      <td>0.44</td>\n",
       "      <td>10.1</td>\n",
       "      <td>6</td>\n",
       "    </tr>\n",
       "    <tr>\n",
       "      <th>3</th>\n",
       "      <td>white</td>\n",
       "      <td>7.2</td>\n",
       "      <td>0.23</td>\n",
       "      <td>0.32</td>\n",
       "      <td>8.5</td>\n",
       "      <td>0.058</td>\n",
       "      <td>47.0</td>\n",
       "      <td>186.0</td>\n",
       "      <td>0.9956</td>\n",
       "      <td>3.19</td>\n",
       "      <td>0.40</td>\n",
       "      <td>9.9</td>\n",
       "      <td>6</td>\n",
       "    </tr>\n",
       "    <tr>\n",
       "      <th>4</th>\n",
       "      <td>white</td>\n",
       "      <td>7.2</td>\n",
       "      <td>0.23</td>\n",
       "      <td>0.32</td>\n",
       "      <td>8.5</td>\n",
       "      <td>0.058</td>\n",
       "      <td>47.0</td>\n",
       "      <td>186.0</td>\n",
       "      <td>0.9956</td>\n",
       "      <td>3.19</td>\n",
       "      <td>0.40</td>\n",
       "      <td>9.9</td>\n",
       "      <td>6</td>\n",
       "    </tr>\n",
       "  </tbody>\n",
       "</table>\n",
       "</div>"
      ],
      "text/plain": [
       "    type  fixed acidity  volatile acidity  citric acid  residual sugar  \\\n",
       "0  white            7.0              0.27         0.36            20.7   \n",
       "1  white            6.3              0.30         0.34             1.6   \n",
       "2  white            8.1              0.28         0.40             6.9   \n",
       "3  white            7.2              0.23         0.32             8.5   \n",
       "4  white            7.2              0.23         0.32             8.5   \n",
       "\n",
       "   chlorides  free sulfur dioxide  total sulfur dioxide  density    pH  \\\n",
       "0      0.045                 45.0                 170.0   1.0010  3.00   \n",
       "1      0.049                 14.0                 132.0   0.9940  3.30   \n",
       "2      0.050                 30.0                  97.0   0.9951  3.26   \n",
       "3      0.058                 47.0                 186.0   0.9956  3.19   \n",
       "4      0.058                 47.0                 186.0   0.9956  3.19   \n",
       "\n",
       "   sulphates  alcohol  quality  \n",
       "0       0.45      8.8        6  \n",
       "1       0.49      9.5        6  \n",
       "2       0.44     10.1        6  \n",
       "3       0.40      9.9        6  \n",
       "4       0.40      9.9        6  "
      ]
     },
     "execution_count": 51,
     "metadata": {},
     "output_type": "execute_result"
    }
   ],
   "source": [
    "wine = pd.read_csv(r'C:\\Users\\yoni.browning\\Downloads\\redwhite\\wine-quality-white-and-red.csv')\n",
    "wine.head()"
   ]
  },
  {
   "cell_type": "markdown",
   "id": "6555061a",
   "metadata": {},
   "source": [
    "Plot some data"
   ]
  },
  {
   "cell_type": "code",
   "execution_count": 86,
   "id": "d0977837",
   "metadata": {},
   "outputs": [
    {
     "data": {
      "text/plain": [
       "<matplotlib.legend.Legend at 0x2b8bd155148>"
      ]
     },
     "execution_count": 86,
     "metadata": {},
     "output_type": "execute_result"
    },
    {
     "data": {
      "image/png": "[encoded data removed]",
      "text/plain": [
       "<Figure size 432x288 with 1 Axes>"
      ]
     },
     "metadata": {
      "needs_background": "light"
     },
     "output_type": "display_data"
    }
   ],
   "source": [
    "fig,ax = plt.subplots()\n",
    "bins = np.arange(2.5,4,.05)\n",
    "ax.hist(wine[wine.type=='white'].pH,bins,density = True,histtype='step',label='White');\n",
    "ax.hist(wine[wine.type=='red'].pH,bins,density = True,histtype='step',label='Red');\n",
    "ax.set_ylabel('density')\n",
    "ax.set_xlabel('pH')\n",
    "ax.legend()"
   ]
  },
  {
   "cell_type": "markdown",
   "id": "e75cfb40",
   "metadata": {},
   "source": [
    "Convert to one-hot for regression model"
   ]
  },
  {
   "cell_type": "code",
   "execution_count": 80,
   "id": "8ebd2131",
   "metadata": {},
   "outputs": [],
   "source": [
    "its_a_red = np.array(wine.type == 'red')\n",
    "its_a_white = np.array(wine.type=='white')\n",
    "X = np.vstack([its_a_red,its_a_white]).T\n",
    "X = X.astype(int)"
   ]
  },
  {
   "cell_type": "markdown",
   "id": "94c9015e",
   "metadata": {},
   "source": [
    "Also get y"
   ]
  },
  {
   "cell_type": "code",
   "execution_count": 82,
   "id": "3e6c3ecf",
   "metadata": {},
   "outputs": [],
   "source": [
    "y = wine.pH"
   ]
  },
  {
   "cell_type": "markdown",
   "id": "6afde692",
   "metadata": {},
   "source": [
    "Now instantiate a fitting object"
   ]
  },
  {
   "cell_type": "code",
   "execution_count": 105,
   "id": "f6f2390e",
   "metadata": {},
   "outputs": [],
   "source": [
    "LinearModel = lm.LinearRegression(fit_intercept=False) # Why false-->discuss"
   ]
  },
  {
   "cell_type": "markdown",
   "id": "bbb8fac1",
   "metadata": {},
   "source": [
    "Then use it to fit the model"
   ]
  },
  {
   "cell_type": "code",
   "execution_count": null,
   "id": "06726c71",
   "metadata": {},
   "outputs": [],
   "source": [
    "LinearModel.fit(X,y)"
   ]
  },
  {
   "cell_type": "markdown",
   "id": "8f5f87a8",
   "metadata": {},
   "source": [
    "And look at the results!"
   ]
  },
  {
   "cell_type": "code",
   "execution_count": 107,
   "id": "ded9ad50",
   "metadata": {},
   "outputs": [
    {
     "data": {
      "text/plain": [
       "array([5.63602251, 5.87790935])"
      ]
     },
     "execution_count": 107,
     "metadata": {},
     "output_type": "execute_result"
    }
   ],
   "source": [
    "LinearModel.coef_"
   ]
  },
  {
   "cell_type": "markdown",
   "id": "244ff815",
   "metadata": {},
   "source": [
    "Another example-->\n",
    "We can answer the age old question of Which is better, red wine or white wine (in portugal, anyway)?"
   ]
  },
  {
   "cell_type": "code",
   "execution_count": 102,
   "id": "301bfc41",
   "metadata": {},
   "outputs": [
    {
     "data": {
      "text/plain": [
       "array([5.63602251, 5.87790935])"
      ]
     },
     "execution_count": 102,
     "metadata": {},
     "output_type": "execute_result"
    }
   ],
   "source": [
    "LinearModel = lm.LinearRegression(fit_intercept=False)\n",
    "LinearModel.fit(X,y)\n",
    "LinearModel.coef_"
   ]
  },
  {
   "cell_type": "markdown",
   "id": "555a6368",
   "metadata": {},
   "source": [
    "Could include some prediction here?"
   ]
  },
  {
   "cell_type": "code",
   "execution_count": 109,
   "id": "c0e9d12d",
   "metadata": {},
   "outputs": [
    {
     "data": {
      "text/plain": [
       "array([5.87790935, 5.87790935, 5.87790935, ..., 5.63602251, 5.63602251,\n",
       "       5.63602251])"
      ]
     },
     "execution_count": 109,
     "metadata": {},
     "output_type": "execute_result"
    }
   ],
   "source": [
    "LinearModel.predict(X)\n",
    "# Would have been better if we held out some data...but maybe more than is needed for this example."
   ]
  },
  {
   "cell_type": "code",
   "execution_count": null,
   "id": "075ba114",
   "metadata": {},
   "outputs": [],
   "source": []
  }
 ],
 "metadata": {
  "kernelspec": {
   "display_name": "Python 3 (ipykernel)",
   "language": "python",
   "name": "python3"
  },
  "language_info": {
   "codemirror_mode": {
    "name": "ipython",
    "version": 3
   },
   "file_extension": ".py",
   "mimetype": "text/x-python",
   "name": "python",
   "nbconvert_exporter": "python",
   "pygments_lexer": "ipython3",
   "version": "3.7.13"
  }
 },
 "nbformat": 4,
 "nbformat_minor": 5
}
